{
  "nbformat": 4,
  "nbformat_minor": 0,
  "metadata": {
    "colab": {
      "name": "MNIST.ipynb",
      "provenance": []
    },
    "kernelspec": {
      "name": "python3",
      "display_name": "Python 3"
    }
  },
  "cells": [
    {
      "cell_type": "code",
      "metadata": {
        "id": "k6az89O9gBRF",
        "colab_type": "code",
        "colab": {}
      },
      "source": [
        "import tensorflow as tf"
      ],
      "execution_count": 1,
      "outputs": []
    },
    {
      "cell_type": "code",
      "metadata": {
        "id": "bWUTjw-Rjd1Z",
        "colab_type": "code",
        "colab": {}
      },
      "source": [
        "from tensorflow import keras\n",
        "import matplotlib.pyplot as plt\n",
        "import numpy as np\n",
        "import seaborn as sns\n",
        "import pandas as pd"
      ],
      "execution_count": 41,
      "outputs": []
    },
    {
      "cell_type": "code",
      "metadata": {
        "id": "_Pw65trYjmQI",
        "colab_type": "code",
        "colab": {}
      },
      "source": [
        "data=keras.datasets.mnist"
      ],
      "execution_count": 3,
      "outputs": []
    },
    {
      "cell_type": "code",
      "metadata": {
        "id": "lF6fExe_jrf7",
        "colab_type": "code",
        "colab": {
          "base_uri": "https://localhost:8080/",
          "height": 52
        },
        "outputId": "6670c2ce-7c26-4515-a1aa-f24d0f6fe4f1"
      },
      "source": [
        "(train_image,train_label),(test_image,test_label)=data.load_data()"
      ],
      "execution_count": 4,
      "outputs": [
        {
          "output_type": "stream",
          "text": [
            "Downloading data from https://storage.googleapis.com/tensorflow/tf-keras-datasets/mnist.npz\n",
            "11493376/11490434 [==============================] - 0s 0us/step\n"
          ],
          "name": "stdout"
        }
      ]
    },
    {
      "cell_type": "code",
      "metadata": {
        "id": "mLQVj6Fq0Gq3",
        "colab_type": "code",
        "colab": {
          "base_uri": "https://localhost:8080/",
          "height": 34
        },
        "outputId": "b70d7b8f-7add-4514-ef71-6df15038a0ff"
      },
      "source": [
        "train_image.shape"
      ],
      "execution_count": 5,
      "outputs": [
        {
          "output_type": "execute_result",
          "data": {
            "text/plain": [
              "(60000, 28, 28)"
            ]
          },
          "metadata": {
            "tags": []
          },
          "execution_count": 5
        }
      ]
    },
    {
      "cell_type": "code",
      "metadata": {
        "id": "hNB_QHbjzDnv",
        "colab_type": "code",
        "colab": {
          "base_uri": "https://localhost:8080/",
          "height": 462
        },
        "outputId": "977f09d9-60dd-4980-ed0b-3b39ebd98768"
      },
      "source": [
        "sns.countplot(train_label)\n",
        "\n",
        "pd.Series(train_label).value_counts()\n",
        "#All have almost same distribution. So no imbalanced dataset"
      ],
      "execution_count": 48,
      "outputs": [
        {
          "output_type": "execute_result",
          "data": {
            "text/plain": [
              "1    6742\n",
              "7    6265\n",
              "3    6131\n",
              "2    5958\n",
              "9    5949\n",
              "0    5923\n",
              "6    5918\n",
              "8    5851\n",
              "4    5842\n",
              "5    5421\n",
              "dtype: int64"
            ]
          },
          "metadata": {
            "tags": []
          },
          "execution_count": 48
        },
        {
          "output_type": "display_data",
          "data": {
            "image/png": "[encoded data removed]",
            "text/plain": [
              "<Figure size 432x288 with 1 Axes>"
            ]
          },
          "metadata": {
            "tags": [],
            "needs_background": "light"
          }
        }
      ]
    },
    {
      "cell_type": "code",
      "metadata": {
        "id": "ZMIdwBvMB4Wy",
        "colab_type": "code",
        "colab": {
          "base_uri": "https://localhost:8080/",
          "height": 531
        },
        "outputId": "ced664cf-df92-4ecd-a103-a82c974cca08"
      },
      "source": [
        "trainImg=train_image\n",
        "trainImg=keras.utils.normalize(trainImg,axis=1)\n",
        "plt.imshow(trainImg[1])\n",
        "plt.show()\n",
        "plt.imshow(train_image[1])"
      ],
      "execution_count": 6,
      "outputs": [
        {
          "output_type": "display_data",
          "data": {
            "image/png": "[encoded data removed]",
            "text/plain": [
              "<Figure size 432x288 with 1 Axes>"
            ]
          },
          "metadata": {
            "tags": [],
            "needs_background": "light"
          }
        },
        {
          "output_type": "execute_result",
          "data": {
            "text/plain": [
              "<matplotlib.image.AxesImage at 0x7fa16c48fa90>"
            ]
          },
          "metadata": {
            "tags": []
          },
          "execution_count": 6
        },
        {
          "output_type": "display_data",
          "data": {
            "image/png": "[encoded data removed]",
            "text/plain": [
              "<Figure size 432x288 with 1 Axes>"
            ]
          },
          "metadata": {
            "tags": [],
            "needs_background": "light"
          }
        }
      ]
    },
    {
      "cell_type": "code",
      "metadata": {
        "id": "nx55DA0FkdpV",
        "colab_type": "code",
        "colab": {
          "base_uri": "https://localhost:8080/",
          "height": 281
        },
        "outputId": "fde1901a-fe58-4cf0-85c3-84193964fdab"
      },
      "source": [
        "plt.imshow(train_image[10])\n",
        "plt.title(train_label[10])\n",
        "plt.show()"
      ],
      "execution_count": 7,
      "outputs": [
        {
          "output_type": "display_data",
          "data": {
            "image/png": "[encoded data removed]",
            "text/plain": [
              "<Figure size 432x288 with 1 Axes>"
            ]
          },
          "metadata": {
            "tags": [],
            "needs_background": "light"
          }
        }
      ]
    },
    {
      "cell_type": "code",
      "metadata": {
        "id": "yMydRxBzlysl",
        "colab_type": "code",
        "colab": {
          "base_uri": "https://localhost:8080/",
          "height": 34
        },
        "outputId": "aebdbb4f-7202-4d34-aadf-fd450a5b33d7"
      },
      "source": [
        "train_image[0].size"
      ],
      "execution_count": 8,
      "outputs": [
        {
          "output_type": "execute_result",
          "data": {
            "text/plain": [
              "784"
            ]
          },
          "metadata": {
            "tags": []
          },
          "execution_count": 8
        }
      ]
    },
    {
      "cell_type": "code",
      "metadata": {
        "id": "NwHILcrfko46",
        "colab_type": "code",
        "colab": {}
      },
      "source": [
        "ctrain_image=train_image/255\n",
        "ctest_image=test_image/255"
      ],
      "execution_count": 9,
      "outputs": []
    },
    {
      "cell_type": "code",
      "metadata": {
        "id": "WvQpJhDdk_Kh",
        "colab_type": "code",
        "colab": {}
      },
      "source": [
        "model=keras.Sequential([\n",
        "    keras.layers.Flatten(input_shape=(28,28)),\n",
        "    keras.layers.Dense(128,activation='relu'),\n",
        "    keras.layers.Dense(10,activation='softmax')\n",
        "])"
      ],
      "execution_count": 10,
      "outputs": []
    },
    {
      "cell_type": "code",
      "metadata": {
        "id": "u8yywyOxlnWE",
        "colab_type": "code",
        "colab": {}
      },
      "source": [
        "model.compile(optimizer='adam',loss='sparse_categorical_crossentropy',metrics=['accuracy'])"
      ],
      "execution_count": 11,
      "outputs": []
    },
    {
      "cell_type": "code",
      "metadata": {
        "id": "EWR-A3yCmnao",
        "colab_type": "code",
        "colab": {
          "base_uri": "https://localhost:8080/",
          "height": 212
        },
        "outputId": "917b4a53-3379-4f32-8a1e-aacaca1456f6"
      },
      "source": [
        "model.fit(ctrain_image,train_label,epochs=5)"
      ],
      "execution_count": 12,
      "outputs": [
        {
          "output_type": "stream",
          "text": [
            "Epoch 1/5\n",
            "1875/1875 [==============================] - 3s 2ms/step - loss: 0.2567 - accuracy: 0.9267\n",
            "Epoch 2/5\n",
            "1875/1875 [==============================] - 3s 2ms/step - loss: 0.1144 - accuracy: 0.9665\n",
            "Epoch 3/5\n",
            "1875/1875 [==============================] - 3s 2ms/step - loss: 0.0780 - accuracy: 0.9766\n",
            "Epoch 4/5\n",
            "1875/1875 [==============================] - 3s 2ms/step - loss: 0.0595 - accuracy: 0.9815\n",
            "Epoch 5/5\n",
            "1875/1875 [==============================] - 3s 2ms/step - loss: 0.0454 - accuracy: 0.9857\n"
          ],
          "name": "stdout"
        },
        {
          "output_type": "execute_result",
          "data": {
            "text/plain": [
              "<tensorflow.python.keras.callbacks.History at 0x7fa165e5b978>"
            ]
          },
          "metadata": {
            "tags": []
          },
          "execution_count": 12
        }
      ]
    },
    {
      "cell_type": "code",
      "metadata": {
        "id": "4uvlrmHZmt21",
        "colab_type": "code",
        "colab": {
          "base_uri": "https://localhost:8080/",
          "height": 52
        },
        "outputId": "8ba247d0-d18f-4568-a148-87e27ea82aea"
      },
      "source": [
        "model.evaluate(ctest_image,test_label)"
      ],
      "execution_count": 13,
      "outputs": [
        {
          "output_type": "stream",
          "text": [
            "313/313 [==============================] - 0s 1ms/step - loss: 0.0784 - accuracy: 0.9759\n"
          ],
          "name": "stdout"
        },
        {
          "output_type": "execute_result",
          "data": {
            "text/plain": [
              "[0.07842442393302917, 0.9758999943733215]"
            ]
          },
          "metadata": {
            "tags": []
          },
          "execution_count": 13
        }
      ]
    },
    {
      "cell_type": "code",
      "metadata": {
        "id": "mwZCPQUim-So",
        "colab_type": "code",
        "colab": {}
      },
      "source": [
        "predictions=model.predict(ctest_image)"
      ],
      "execution_count": 14,
      "outputs": []
    },
    {
      "cell_type": "code",
      "metadata": {
        "id": "ZQoX7fXaoDCg",
        "colab_type": "code",
        "colab": {
          "base_uri": "https://localhost:8080/",
          "height": 70
        },
        "outputId": "4bac0330-d64a-48f3-bf05-267af413f88c"
      },
      "source": [
        "(predictions[0])"
      ],
      "execution_count": 15,
      "outputs": [
        {
          "output_type": "execute_result",
          "data": {
            "text/plain": [
              "array([2.1587664e-06, 1.5075923e-08, 6.2171581e-05, 2.6729465e-05,\n",
              "       5.3209871e-11, 9.0601215e-09, 4.3570069e-12, 9.9990761e-01,\n",
              "       7.5302729e-08, 1.1957184e-06], dtype=float32)"
            ]
          },
          "metadata": {
            "tags": []
          },
          "execution_count": 15
        }
      ]
    },
    {
      "cell_type": "code",
      "metadata": {
        "id": "tXScMUQrnKhl",
        "colab_type": "code",
        "colab": {
          "base_uri": "https://localhost:8080/",
          "height": 1000
        },
        "outputId": "4fc26a6d-3ca4-4baa-f882-3f73464dcc66"
      },
      "source": [
        "for i in range(5):\n",
        "  plt.imshow(train_image[i])\n",
        "  plt.xlabel(\"Actual \"+str(test_label[i]))\n",
        "  plt.title(\"Predicted \"+str(np.argmax(predictions[i])))\n",
        "  plt.show()\n",
        "\n"
      ],
      "execution_count": 16,
      "outputs": [
        {
          "output_type": "display_data",
          "data": {
            "image/png": "[encoded data removed]",
            "text/plain": [
              "<Figure size 432x288 with 1 Axes>"
            ]
          },
          "metadata": {
            "tags": [],
            "needs_background": "light"
          }
        },
        {
          "output_type": "display_data",
          "data": {
            "image/png": "[encoded data removed]",
            "text/plain": [
              "<Figure size 432x288 with 1 Axes>"
            ]
          },
          "metadata": {
            "tags": [],
            "needs_background": "light"
          }
        },
        {
          "output_type": "display_data",
          "data": {
            "image/png": "[encoded data removed]",
            "text/plain": [
              "<Figure size 432x288 with 1 Axes>"
            ]
          },
          "metadata": {
            "tags": [],
            "needs_background": "light"
          }
        },
        {
          "output_type": "display_data",
          "data": {
            "image/png": "[encoded data removed]",
            "text/plain": [
              "<Figure size 432x288 with 1 Axes>"
            ]
          },
          "metadata": {
            "tags": [],
            "needs_background": "light"
          }
        },
        {
          "output_type": "display_data",
          "data": {
            "image/png": "[encoded data removed]",
            "text/plain": [
              "<Figure size 432x288 with 1 Axes>"
            ]
          },
          "metadata": {
            "tags": [],
            "needs_background": "light"
          }
        }
      ]
    },
    {
      "cell_type": "code",
      "metadata": {
        "id": "eDPLTtTmz8GF",
        "colab_type": "code",
        "colab": {
          "base_uri": "https://localhost:8080/",
          "height": 107
        },
        "outputId": "0900e533-2870-494a-b349-da116a65ef9c"
      },
      "source": [
        "# Save model\n",
        "model.save(\"Digit_Recogniser.model\")"
      ],
      "execution_count": 17,
      "outputs": [
        {
          "output_type": "stream",
          "text": [
            "WARNING:tensorflow:From /usr/local/lib/python3.6/dist-packages/tensorflow/python/ops/resource_variable_ops.py:1817: calling BaseResourceVariable.__init__ (from tensorflow.python.ops.resource_variable_ops) with constraint is deprecated and will be removed in a future version.\n",
            "Instructions for updating:\n",
            "If using Keras pass *_constraint arguments to layers.\n",
            "INFO:tensorflow:Assets written to: Digit_Recogniser.model/assets\n"
          ],
          "name": "stdout"
        }
      ]
    },
    {
      "cell_type": "code",
      "metadata": {
        "id": "BwLAzFovnpD5",
        "colab_type": "code",
        "colab": {}
      },
      "source": [
        "new_model=keras.models.load_model(\"Digit_Recogniser.model\")"
      ],
      "execution_count": 18,
      "outputs": []
    },
    {
      "cell_type": "code",
      "metadata": {
        "id": "kzeAC3vqEXw9",
        "colab_type": "code",
        "colab": {
          "base_uri": "https://localhost:8080/",
          "height": 247
        },
        "outputId": "72754ddc-3c71-460e-bd68-2b9fd58c8dd5"
      },
      "source": [
        "new_model.predict(ctest_image)\n",
        "# ctest_image[0].shape"
      ],
      "execution_count": 19,
      "outputs": [
        {
          "output_type": "execute_result",
          "data": {
            "text/plain": [
              "array([[2.1587664e-06, 1.5075923e-08, 6.2171581e-05, ..., 9.9990761e-01,\n",
              "        7.5302729e-08, 1.1957184e-06],\n",
              "       [6.6518935e-10, 9.3232657e-06, 9.9999011e-01, ..., 7.2388052e-14,\n",
              "        1.6935449e-07, 1.8988209e-15],\n",
              "       [1.7903885e-07, 9.9875295e-01, 7.2265253e-04, ..., 1.4658080e-04,\n",
              "        2.7665062e-04, 2.1944427e-06],\n",
              "       ...,\n",
              "       [3.2187428e-14, 2.0750484e-13, 3.0334987e-13, ..., 1.0687988e-07,\n",
              "        5.5204288e-07, 1.5451987e-07],\n",
              "       [1.2554049e-08, 4.8123194e-09, 3.4628908e-10, ..., 2.5060746e-08,\n",
              "        1.0548595e-03, 4.7511650e-10],\n",
              "       [6.1677126e-09, 1.3039415e-10, 1.4664279e-07, ..., 4.0126394e-14,\n",
              "        6.8758677e-10, 4.6913654e-11]], dtype=float32)"
            ]
          },
          "metadata": {
            "tags": []
          },
          "execution_count": 19
        }
      ]
    },
    {
      "cell_type": "code",
      "metadata": {
        "id": "BrWQyPY_EbWC",
        "colab_type": "code",
        "colab": {}
      },
      "source": [
        "# baseline cnn model for mnist\n",
        "from numpy import mean\n",
        "from numpy import std\n",
        "from matplotlib import pyplot\n",
        "from sklearn.model_selection import KFold\n",
        "from keras.datasets import mnist\n",
        "from keras.utils import to_categorical\n",
        "from keras.models import Sequential\n",
        "from keras.layers import Conv2D\n",
        "from keras.layers import MaxPooling2D\n",
        "from keras.layers import Dense\n",
        "from keras.layers import Flatten\n",
        "from keras.optimizers import SGD\n",
        "\n",
        "# load train and test dataset\n",
        "# def load_dataset():\n",
        "# \t# load dataset\n",
        "# \t(trainX, trainY), (testX, testY) = mnist.load_data()\n",
        "# \t# reshape dataset to have a single channel\n",
        "# \ttrainX = trainX.reshape((trainX.shape[0], 28, 28, 1))\n",
        "# \ttestX = testX.reshape((testX.shape[0], 28, 28, 1))\n",
        "# \t# one hot encode target values\n",
        "# \ttrainY = to_categorical(trainY)\n",
        "# \ttestY = to_categorical(testY)\n",
        "# \treturn trainX, trainY, testX, testY\n",
        "\n",
        "# # scale pixels\n",
        "# def prep_pixels(train, test):\n",
        "# \t# convert from integers to floats\n",
        "# \ttrain_norm = train.astype('float32')\n",
        "# \ttest_norm = test.astype('float32')\n",
        "# \t# normalize to range 0-1\n",
        "# \ttrain_norm = train_norm / 255.0\n",
        "# \ttest_norm = test_norm / 255.0\n",
        "# \t# return normalized images\n",
        "# \treturn train_norm, test_norm\n",
        "\n",
        "# # define cnn model\n",
        "# def define_model():\n",
        "# \tmodel = Sequential()\n",
        "# \tmodel.add(Conv2D(32, (3, 3), activation='relu', kernel_initializer='he_uniform', input_shape=(28, 28, 1)))\n",
        "# \tmodel.add(MaxPooling2D((2, 2)))\n",
        "# \tmodel.add(Flatten())\n",
        "# \tmodel.add(Dense(100, activation='relu', kernel_initializer='he_uniform'))\n",
        "# \tmodel.add(Dense(10, activation='softmax'))\n",
        "# \t# compile model\n",
        "# \topt = SGD(lr=0.01, momentum=0.9)\n",
        "# \tmodel.compile(optimizer=opt, loss='categorical_crossentropy', metrics=['accuracy'])\n",
        "# \treturn model\n",
        "\n",
        "# # evaluate a model using k-fold cross-validation\n",
        "# def evaluate_model(dataX, dataY, n_folds=5):\n",
        "# \tscores, histories = list(), list()\n",
        "# \t# prepare cross validation\n",
        "# \tkfold = KFold(n_folds, shuffle=True, random_state=1)\n",
        "# \t# enumerate splits\n",
        "# \tfor train_ix, test_ix in kfold.split(dataX):\n",
        "# \t\t# define model\n",
        "# \t\tmodel = define_model()\n",
        "# \t\t# select rows for train and test\n",
        "# \t\ttrainX, trainY, testX, testY = dataX[train_ix], dataY[train_ix], dataX[test_ix], dataY[test_ix]\n",
        "# \t\t# fit model\n",
        "# \t\thistory = model.fit(trainX, trainY, epochs=10, batch_size=32, validation_data=(testX, testY), verbose=0)\n",
        "# \t\t# evaluate model\n",
        "# \t\t_, acc = model.evaluate(testX, testY, verbose=0)\n",
        "# \t\tprint('> %.3f' % (acc * 100.0))\n",
        "# \t\t# stores scores\n",
        "# \t\tscores.append(acc)\n",
        "# \t\thistories.append(history)\n",
        "# \treturn scores, histories\n",
        "\n",
        "# # plot diagnostic learning curves\n",
        "# def summarize_diagnostics(histories):\n",
        "# \tfor i in range(len(histories)):\n",
        "# \t\t# plot loss\n",
        "# \t\tpyplot.subplot(2, 1, 1)\n",
        "# \t\tpyplot.title('Cross Entropy Loss')\n",
        "# \t\tpyplot.plot(histories[i].history['loss'], color='blue', label='train')\n",
        "# \t\tpyplot.plot(histories[i].history['val_loss'], color='orange', label='test')\n",
        "# \t\t# plot accuracy\n",
        "# \t\tpyplot.subplot(2, 1, 2)\n",
        "# \t\tpyplot.title('Classification Accuracy')\n",
        "# \t\tpyplot.plot(histories[i].history['accuracy'], color='blue', label='train')\n",
        "# \t\tpyplot.plot(histories[i].history['val_accuracy'], color='orange', label='test')\n",
        "# \tpyplot.show()\n",
        "\n",
        "# # summarize model performance\n",
        "# def summarize_performance(scores):\n",
        "# \t# print summary\n",
        "# \tprint('Accuracy: mean=%.3f std=%.3f, n=%d' % (mean(scores)*100, std(scores)*100, len(scores)))\n",
        "# \t# box and whisker plots of results\n",
        "# \tpyplot.boxplot(scores)\n",
        "# \tpyplot.show()\n",
        "\n",
        "# # run the test harness for evaluating a model\n",
        "# def run_test_harness():\n",
        "# \t# load dataset\n",
        "# \ttrainX, trainY, testX, testY = load_dataset()\n",
        "# \t# prepare pixel data\n",
        "# \ttrainX, testX = prep_pixels(trainX, testX)\n",
        "# \t# evaluate model\n",
        "# \tscores, histories = evaluate_model(trainX, trainY)\n",
        "# \t# learning curves\n",
        "# \tsummarize_diagnostics(histories)\n",
        "# \t# summarize estimated performance\n",
        "# \tsummarize_performance(scores)\n",
        "\n",
        "# # entry point, run the test harness\n",
        "# run_test_harness()"
      ],
      "execution_count": 21,
      "outputs": []
    },
    {
      "cell_type": "markdown",
      "metadata": {
        "id": "roA_-_XcpNd3",
        "colab_type": "text"
      },
      "source": [
        "https://machinelearningmastery.com/how-to-develop-a-convolutional-neural-network-from-scratch-for-mnist-handwritten-digit-classification/"
      ]
    },
    {
      "cell_type": "code",
      "metadata": {
        "id": "SCfzNCNpob-u",
        "colab_type": "code",
        "colab": {}
      },
      "source": [
        "def load_dataset():\n",
        "\t# load dataset\n",
        "\t(trainX, trainY), (testX, testY) = mnist.load_data()\n",
        "\t# reshape dataset to have a single channel\n",
        "\ttrainX = trainX.reshape((trainX.shape[0], 28, 28, 1))\n",
        "\ttestX = testX.reshape((testX.shape[0], 28, 28, 1))\n",
        "\t# one hot encode target values\n",
        "\ttrainY = to_categorical(trainY)\n",
        "\ttestY = to_categorical(testY)\n",
        "\treturn trainX, trainY, testX, testY"
      ],
      "execution_count": 23,
      "outputs": []
    },
    {
      "cell_type": "code",
      "metadata": {
        "id": "NNXm2TeTpaqb",
        "colab_type": "code",
        "colab": {}
      },
      "source": [
        "def prep_pixels(train, test):\n",
        "\t# convert from integers to floats\n",
        "\ttrain_norm = train.astype('float32')\n",
        "\ttest_norm = test.astype('float32')\n",
        "\t# normalize to range 0-1\n",
        "\ttrain_norm = train_norm / 255.0\n",
        "\ttest_norm = test_norm / 255.0\n",
        "\t# return normalized images\n",
        "\treturn train_norm, test_norm\n"
      ],
      "execution_count": 25,
      "outputs": []
    },
    {
      "cell_type": "code",
      "metadata": {
        "id": "cR-IpgqGpe6u",
        "colab_type": "code",
        "colab": {}
      },
      "source": [
        "def define_model():\n",
        "\tmodel = Sequential()\n",
        "\tmodel.add(Conv2D(32, (3, 3), activation='relu', kernel_initializer='he_uniform', input_shape=(28, 28, 1)))\n",
        "\tmodel.add(MaxPooling2D((2, 2)))\n",
        "\tmodel.add(Flatten())\n",
        "\tmodel.add(Dense(100, activation='relu', kernel_initializer='he_uniform'))\n",
        "\tmodel.add(Dense(10, activation='softmax'))\n",
        "\t# compile model\n",
        "\topt = SGD(lr=0.01, momentum=0.9)\n",
        "\tmodel.compile(optimizer=opt, loss='categorical_crossentropy', metrics=['accuracy'])\n",
        "\treturn model"
      ],
      "execution_count": 27,
      "outputs": []
    },
    {
      "cell_type": "code",
      "metadata": {
        "id": "CcNBp8ZgpkT0",
        "colab_type": "code",
        "colab": {}
      },
      "source": [
        "def evaluate_model(dataX, dataY, n_folds=5):\n",
        "\tscores, histories = list(), list()\n",
        "\t# prepare cross validation\n",
        "\tkfold = KFold(n_folds, shuffle=True, random_state=1)\n",
        "\t# enumerate splits\n",
        "\tfor train_ix, test_ix in kfold.split(dataX):\n",
        "\t\t# define model\n",
        "\t\tmodel = define_model()\n",
        "\t\t# select rows for train and test\n",
        "\t\ttrainX, trainY, testX, testY = dataX[train_ix], dataY[train_ix], dataX[test_ix], dataY[test_ix]\n",
        "\t\t# fit model\n",
        "\t\thistory = model.fit(trainX, trainY, epochs=10, batch_size=32, validation_data=(testX, testY), verbose=0)\n",
        "\t\t# evaluate model\n",
        "\t\t_, acc = model.evaluate(testX, testY, verbose=0)\n",
        "\t\tprint('> %.3f' % (acc * 100.0))\n",
        "\t\t# stores scores\n",
        "\t\tscores.append(acc)\n",
        "\t\thistories.append(history)\n",
        "\treturn scores, histories"
      ],
      "execution_count": 29,
      "outputs": []
    },
    {
      "cell_type": "code",
      "metadata": {
        "id": "3HGTn-cXpr-b",
        "colab_type": "code",
        "colab": {}
      },
      "source": [
        "def summarize_diagnostics(histories):\n",
        "\tfor i in range(len(histories)):\n",
        "\t\t# plot loss\n",
        "\t\tpyplot.subplot(2, 1, 1)\n",
        "\t\tpyplot.title('Cross Entropy Loss')\n",
        "\t\tpyplot.plot(histories[i].history['loss'], color='blue', label='train')\n",
        "\t\tpyplot.plot(histories[i].history['val_loss'], color='orange', label='test')\n",
        "\t\t# plot accuracy\n",
        "\t\tpyplot.subplot(2, 1, 2)\n",
        "\t\tpyplot.title('Classification Accuracy')\n",
        "\t\tpyplot.plot(histories[i].history['accuracy'], color='blue', label='train')\n",
        "\t\tpyplot.plot(histories[i].history['val_accuracy'], color='orange', label='test')\n",
        "\tpyplot.show()"
      ],
      "execution_count": 31,
      "outputs": []
    },
    {
      "cell_type": "code",
      "metadata": {
        "id": "9Ezbnzecpv6R",
        "colab_type": "code",
        "colab": {}
      },
      "source": [
        "def summarize_performance(scores):\n",
        "\t# print summary\n",
        "\tprint('Accuracy: mean=%.3f std=%.3f, n=%d' % (mean(scores)*100, std(scores)*100, len(scores)))\n",
        "\t# box and whisker plots of results\n",
        "\tpyplot.boxplot(scores)\n",
        "\tpyplot.show()"
      ],
      "execution_count": 32,
      "outputs": []
    },
    {
      "cell_type": "code",
      "metadata": {
        "id": "Yl5qjLPWp1Nx",
        "colab_type": "code",
        "colab": {}
      },
      "source": [
        "def run_test_harness():\n",
        "\t# load dataset\n",
        "\ttrainX, trainY, testX, testY = load_dataset()\n",
        "\t# prepare pixel data\n",
        "\ttrainX, testX = prep_pixels(trainX, testX)\n",
        "\t# evaluate model\n",
        "\tscores, histories = evaluate_model(trainX, trainY)\n",
        "\t# learning curves\n",
        "\tsummarize_diagnostics(histories)\n",
        "\t# summarize estimated performance\n",
        "\tsummarize_performance(scores)"
      ],
      "execution_count": 34,
      "outputs": []
    },
    {
      "cell_type": "code",
      "metadata": {
        "id": "fpSSOWP2p4JA",
        "colab_type": "code",
        "colab": {
          "base_uri": "https://localhost:8080/",
          "height": 726
        },
        "outputId": "def3cbcc-249e-4d2a-d97c-3566db4857a2"
      },
      "source": [
        "run_test_harness()"
      ],
      "execution_count": 35,
      "outputs": [
        {
          "output_type": "stream",
          "text": [
            "> 98.542\n",
            "> 98.642\n",
            "> 98.567\n",
            "> 98.908\n",
            "> 98.592\n"
          ],
          "name": "stdout"
        },
        {
          "output_type": "stream",
          "text": [
            "/usr/local/lib/python3.6/dist-packages/ipykernel_launcher.py:4: MatplotlibDeprecationWarning: Adding an axes using the same arguments as a previous axes currently reuses the earlier instance.  In a future version, a new instance will always be created and returned.  Meanwhile, this warning can be suppressed, and the future behavior ensured, by passing a unique label to each axes instance.\n",
            "  after removing the cwd from sys.path.\n",
            "/usr/local/lib/python3.6/dist-packages/ipykernel_launcher.py:9: MatplotlibDeprecationWarning: Adding an axes using the same arguments as a previous axes currently reuses the earlier instance.  In a future version, a new instance will always be created and returned.  Meanwhile, this warning can be suppressed, and the future behavior ensured, by passing a unique label to each axes instance.\n",
            "  if __name__ == '__main__':\n"
          ],
          "name": "stderr"
        },
        {
          "output_type": "display_data",
          "data": {
            "image/png": "[encoded data removed]",
            "text/plain": [
              "<Figure size 432x288 with 2 Axes>"
            ]
          },
          "metadata": {
            "tags": [],
            "needs_background": "light"
          }
        },
        {
          "output_type": "stream",
          "text": [
            "Accuracy: mean=98.650 std=0.133, n=5\n"
          ],
          "name": "stdout"
        },
        {
          "output_type": "display_data",
          "data": {
            "image/png": "[encoded data removed]",
            "text/plain": [
              "<Figure size 432x288 with 1 Axes>"
            ]
          },
          "metadata": {
            "tags": [],
            "needs_background": "light"
          }
        }
      ]
    },
    {
      "cell_type": "markdown",
      "metadata": {
        "id": "VhaTQWGCDXuX",
        "colab_type": "text"
      },
      "source": [
        "[Look at this kernel. Confusion matrix, augmentation, annealer](https://www.kaggle.com/yassineghouzam/introduction-to-cnn-keras-0-997-top-6)"
      ]
    },
    {
      "cell_type": "code",
      "metadata": {
        "id": "nxiBgFhXp_3P",
        "colab_type": "code",
        "colab": {}
      },
      "source": [
        ""
      ],
      "execution_count": null,
      "outputs": []
    }
  ]
}