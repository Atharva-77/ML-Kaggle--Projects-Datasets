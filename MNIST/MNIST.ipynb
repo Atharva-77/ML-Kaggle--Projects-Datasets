{
  "nbformat": 4,
  "nbformat_minor": 0,
  "metadata": {
    "colab": {
      "name": "MNIST.ipynb",
      "provenance": []
    },
    "kernelspec": {
      "name": "python3",
      "display_name": "Python 3"
    }
  },
  "cells": [
    {
      "cell_type": "code",
      "metadata": {
        "id": "k6az89O9gBRF",
        "colab_type": "code",
        "colab": {}
      },
      "source": [
        "import tensorflow as tf"
      ],
      "execution_count": null,
      "outputs": []
    },
    {
      "cell_type": "code",
      "metadata": {
        "id": "bWUTjw-Rjd1Z",
        "colab_type": "code",
        "colab": {}
      },
      "source": [
        "from tensorflow import keras\n",
        "import matplotlib.pyplot as plt\n",
        "import numpy as np\n"
      ],
      "execution_count": null,
      "outputs": []
    },
    {
      "cell_type": "code",
      "metadata": {
        "id": "_Pw65trYjmQI",
        "colab_type": "code",
        "colab": {}
      },
      "source": [
        "data=keras.datasets.mnist"
      ],
      "execution_count": null,
      "outputs": []
    },
    {
      "cell_type": "code",
      "metadata": {
        "id": "lF6fExe_jrf7",
        "colab_type": "code",
        "colab": {
          "base_uri": "https://localhost:8080/",
          "height": 52
        },
        "outputId": "1d2b455b-f987-451e-c1be-fed3a5f45947"
      },
      "source": [
        "(train_image,train_label),(test_image,test_label)=data.load_data()"
      ],
      "execution_count": null,
      "outputs": [
        {
          "output_type": "stream",
          "text": [
            "Downloading data from https://storage.googleapis.com/tensorflow/tf-keras-datasets/mnist.npz\n",
            "11493376/11490434 [==============================] - 0s 0us/step\n"
          ],
          "name": "stdout"
        }
      ]
    },
    {
      "cell_type": "code",
      "metadata": {
        "id": "nx55DA0FkdpV",
        "colab_type": "code",
        "colab": {
          "base_uri": "https://localhost:8080/",
          "height": 281
        },
        "outputId": "7b11a2a2-da56-427a-a4ce-6a6199965274"
      },
      "source": [
        "plt.imshow(train_image[10])\n",
        "plt.title(train_label[10])\n",
        "plt.show()"
      ],
      "execution_count": null,
      "outputs": [
        {
          "output_type": "display_data",
          "data": {
            "image/png": "[encoded data removed]",
            "text/plain": [
              "<Figure size 432x288 with 1 Axes>"
            ]
          },
          "metadata": {
            "tags": [],
            "needs_background": "light"
          }
        }
      ]
    },
    {
      "cell_type": "code",
      "metadata": {
        "id": "yMydRxBzlysl",
        "colab_type": "code",
        "colab": {
          "base_uri": "https://localhost:8080/",
          "height": 34
        },
        "outputId": "52c13713-de69-47df-be47-73071e471182"
      },
      "source": [
        "train_image[0].size"
      ],
      "execution_count": null,
      "outputs": [
        {
          "output_type": "execute_result",
          "data": {
            "text/plain": [
              "784"
            ]
          },
          "metadata": {
            "tags": []
          },
          "execution_count": 20
        }
      ]
    },
    {
      "cell_type": "code",
      "metadata": {
        "id": "NwHILcrfko46",
        "colab_type": "code",
        "colab": {}
      },
      "source": [
        "ctrain_image=train_image/255\n",
        "ctest_image=test_image/255"
      ],
      "execution_count": null,
      "outputs": []
    },
    {
      "cell_type": "code",
      "metadata": {
        "id": "WvQpJhDdk_Kh",
        "colab_type": "code",
        "colab": {}
      },
      "source": [
        "model=keras.Sequential([\n",
        "    keras.layers.Flatten(input_shape=(28,28)),\n",
        "    keras.layers.Dense(128,activation='relu'),\n",
        "    keras.layers.Dense(10,activation='softmax')\n",
        "])"
      ],
      "execution_count": null,
      "outputs": []
    },
    {
      "cell_type": "code",
      "metadata": {
        "id": "u8yywyOxlnWE",
        "colab_type": "code",
        "colab": {}
      },
      "source": [
        "model.compile(optimizer='adam',loss='sparse_categorical_crossentropy',metrics=['accuracy'])"
      ],
      "execution_count": null,
      "outputs": []
    },
    {
      "cell_type": "code",
      "metadata": {
        "id": "EWR-A3yCmnao",
        "colab_type": "code",
        "colab": {
          "base_uri": "https://localhost:8080/",
          "height": 1000
        },
        "outputId": "695681b9-dbc9-427e-f9e7-5af85336bf02"
      },
      "source": [
        "model.fit(ctrain_image,train_label,epochs=50)"
      ],
      "execution_count": null,
      "outputs": [
        {
          "output_type": "stream",
          "text": [
            "Epoch 1/50\n",
            "1875/1875 [==============================] - 3s 2ms/step - loss: 0.1119 - accuracy: 0.9670\n",
            "Epoch 2/50\n",
            "1875/1875 [==============================] - 3s 2ms/step - loss: 0.0790 - accuracy: 0.9761\n",
            "Epoch 3/50\n",
            "1875/1875 [==============================] - 3s 2ms/step - loss: 0.0571 - accuracy: 0.9827\n",
            "Epoch 4/50\n",
            "1875/1875 [==============================] - 3s 2ms/step - loss: 0.0452 - accuracy: 0.9860\n",
            "Epoch 5/50\n",
            "1875/1875 [==============================] - 3s 2ms/step - loss: 0.0356 - accuracy: 0.9888\n",
            "Epoch 6/50\n",
            "1875/1875 [==============================] - 3s 2ms/step - loss: 0.0271 - accuracy: 0.9916\n",
            "Epoch 7/50\n",
            "1875/1875 [==============================] - 3s 2ms/step - loss: 0.0225 - accuracy: 0.9933\n",
            "Epoch 8/50\n",
            "1875/1875 [==============================] - 3s 2ms/step - loss: 0.0194 - accuracy: 0.9942\n",
            "Epoch 9/50\n",
            "1875/1875 [==============================] - 3s 2ms/step - loss: 0.0158 - accuracy: 0.9954\n",
            "Epoch 10/50\n",
            "1875/1875 [==============================] - 3s 2ms/step - loss: 0.0141 - accuracy: 0.9955\n",
            "Epoch 11/50\n",
            "1875/1875 [==============================] - 3s 2ms/step - loss: 0.0106 - accuracy: 0.9967\n",
            "Epoch 12/50\n",
            "1875/1875 [==============================] - 3s 2ms/step - loss: 0.0110 - accuracy: 0.9966\n",
            "Epoch 13/50\n",
            "1875/1875 [==============================] - 3s 2ms/step - loss: 0.0089 - accuracy: 0.9973\n",
            "Epoch 14/50\n",
            "1875/1875 [==============================] - 3s 2ms/step - loss: 0.0075 - accuracy: 0.9976\n",
            "Epoch 15/50\n",
            "1875/1875 [==============================] - 3s 2ms/step - loss: 0.0079 - accuracy: 0.9974\n",
            "Epoch 16/50\n",
            "1875/1875 [==============================] - 3s 2ms/step - loss: 0.0069 - accuracy: 0.9980\n",
            "Epoch 17/50\n",
            "1875/1875 [==============================] - 3s 2ms/step - loss: 0.0062 - accuracy: 0.9978\n",
            "Epoch 18/50\n",
            "1875/1875 [==============================] - 3s 2ms/step - loss: 0.0051 - accuracy: 0.9984\n",
            "Epoch 19/50\n",
            "1875/1875 [==============================] - 3s 2ms/step - loss: 0.0050 - accuracy: 0.9985\n",
            "Epoch 20/50\n",
            "1875/1875 [==============================] - 3s 2ms/step - loss: 0.0055 - accuracy: 0.9981\n",
            "Epoch 21/50\n",
            "1875/1875 [==============================] - 3s 2ms/step - loss: 0.0045 - accuracy: 0.9986\n",
            "Epoch 22/50\n",
            "1875/1875 [==============================] - 3s 2ms/step - loss: 0.0042 - accuracy: 0.9987\n",
            "Epoch 23/50\n",
            "1875/1875 [==============================] - 3s 2ms/step - loss: 0.0067 - accuracy: 0.9979\n",
            "Epoch 24/50\n",
            "1875/1875 [==============================] - 3s 2ms/step - loss: 0.0032 - accuracy: 0.9990\n",
            "Epoch 25/50\n",
            "1875/1875 [==============================] - 3s 2ms/step - loss: 0.0046 - accuracy: 0.9985\n",
            "Epoch 26/50\n",
            "1875/1875 [==============================] - 3s 2ms/step - loss: 0.0046 - accuracy: 0.9985\n",
            "Epoch 27/50\n",
            "1875/1875 [==============================] - 3s 2ms/step - loss: 0.0041 - accuracy: 0.9987\n",
            "Epoch 28/50\n",
            "1875/1875 [==============================] - 3s 2ms/step - loss: 0.0029 - accuracy: 0.9992\n",
            "Epoch 29/50\n",
            "1875/1875 [==============================] - 3s 2ms/step - loss: 0.0049 - accuracy: 0.9985\n",
            "Epoch 30/50\n",
            "1875/1875 [==============================] - 3s 2ms/step - loss: 0.0035 - accuracy: 0.9987\n",
            "Epoch 31/50\n",
            "1875/1875 [==============================] - 3s 2ms/step - loss: 0.0025 - accuracy: 0.9992\n",
            "Epoch 32/50\n",
            "1875/1875 [==============================] - 3s 2ms/step - loss: 0.0030 - accuracy: 0.9990\n",
            "Epoch 33/50\n",
            "1875/1875 [==============================] - 3s 2ms/step - loss: 0.0042 - accuracy: 0.9987\n",
            "Epoch 34/50\n",
            "1875/1875 [==============================] - 3s 2ms/step - loss: 0.0035 - accuracy: 0.9988\n",
            "Epoch 35/50\n",
            "1875/1875 [==============================] - 3s 2ms/step - loss: 0.0039 - accuracy: 0.9987\n",
            "Epoch 36/50\n",
            "1875/1875 [==============================] - 3s 2ms/step - loss: 0.0022 - accuracy: 0.9993\n",
            "Epoch 37/50\n",
            "1875/1875 [==============================] - 3s 2ms/step - loss: 0.0042 - accuracy: 0.9987\n",
            "Epoch 38/50\n",
            "1875/1875 [==============================] - 3s 2ms/step - loss: 0.0024 - accuracy: 0.9991\n",
            "Epoch 39/50\n",
            "1875/1875 [==============================] - 3s 2ms/step - loss: 0.0030 - accuracy: 0.9991\n",
            "Epoch 40/50\n",
            "1875/1875 [==============================] - 4s 2ms/step - loss: 0.0030 - accuracy: 0.9989\n",
            "Epoch 41/50\n",
            "1875/1875 [==============================] - 4s 2ms/step - loss: 0.0035 - accuracy: 0.9989\n",
            "Epoch 42/50\n",
            "1875/1875 [==============================] - 4s 2ms/step - loss: 0.0030 - accuracy: 0.9991\n",
            "Epoch 43/50\n",
            "1875/1875 [==============================] - 3s 2ms/step - loss: 0.0035 - accuracy: 0.9991\n",
            "Epoch 44/50\n",
            "1875/1875 [==============================] - 3s 2ms/step - loss: 0.0027 - accuracy: 0.9991\n",
            "Epoch 45/50\n",
            "1875/1875 [==============================] - 3s 2ms/step - loss: 0.0022 - accuracy: 0.9991\n",
            "Epoch 46/50\n",
            "1875/1875 [==============================] - 3s 2ms/step - loss: 0.0023 - accuracy: 0.9993\n",
            "Epoch 47/50\n",
            "1875/1875 [==============================] - 3s 2ms/step - loss: 0.0025 - accuracy: 0.9992\n",
            "Epoch 48/50\n",
            "1875/1875 [==============================] - 3s 2ms/step - loss: 0.0030 - accuracy: 0.9991\n",
            "Epoch 49/50\n",
            "1875/1875 [==============================] - 3s 2ms/step - loss: 0.0012 - accuracy: 0.9996\n",
            "Epoch 50/50\n",
            "1875/1875 [==============================] - 3s 2ms/step - loss: 0.0047 - accuracy: 0.9985\n"
          ],
          "name": "stdout"
        },
        {
          "output_type": "execute_result",
          "data": {
            "text/plain": [
              "<tensorflow.python.keras.callbacks.History at 0x7f1edb1917b8>"
            ]
          },
          "metadata": {
            "tags": []
          },
          "execution_count": 24
        }
      ]
    },
    {
      "cell_type": "code",
      "metadata": {
        "id": "4uvlrmHZmt21",
        "colab_type": "code",
        "colab": {
          "base_uri": "https://localhost:8080/",
          "height": 52
        },
        "outputId": "b9d2cdd7-fe9a-4894-c16d-9e12863c9b77"
      },
      "source": [
        "model.evaluate(ctest_image,test_label)"
      ],
      "execution_count": null,
      "outputs": [
        {
          "output_type": "stream",
          "text": [
            "313/313 [==============================] - 0s 1ms/step - loss: 0.1641 - accuracy: 0.9793\n"
          ],
          "name": "stdout"
        },
        {
          "output_type": "execute_result",
          "data": {
            "text/plain": [
              "[0.1641358733177185, 0.9793000221252441]"
            ]
          },
          "metadata": {
            "tags": []
          },
          "execution_count": 25
        }
      ]
    },
    {
      "cell_type": "code",
      "metadata": {
        "id": "mwZCPQUim-So",
        "colab_type": "code",
        "colab": {}
      },
      "source": [
        "predictions=model.predict(ctest_image)"
      ],
      "execution_count": null,
      "outputs": []
    },
    {
      "cell_type": "code",
      "metadata": {
        "id": "ZQoX7fXaoDCg",
        "colab_type": "code",
        "colab": {
          "base_uri": "https://localhost:8080/",
          "height": 70
        },
        "outputId": "f05512b6-329d-41ca-e38f-66b3006bd82e"
      },
      "source": [
        "(predictions[0])"
      ],
      "execution_count": null,
      "outputs": [
        {
          "output_type": "execute_result",
          "data": {
            "text/plain": [
              "array([1.0672828e-17, 4.9225965e-26, 3.5194498e-15, 7.2868223e-10,\n",
              "       9.1329524e-27, 1.1330630e-21, 6.4379471e-22, 1.0000000e+00,\n",
              "       2.6748285e-18, 2.8856089e-12], dtype=float32)"
            ]
          },
          "metadata": {
            "tags": []
          },
          "execution_count": 33
        }
      ]
    },
    {
      "cell_type": "code",
      "metadata": {
        "id": "tXScMUQrnKhl",
        "colab_type": "code",
        "colab": {
          "base_uri": "https://localhost:8080/",
          "height": 1000
        },
        "outputId": "20f7ce21-793d-4e88-92e3-7aa65bf10db9"
      },
      "source": [
        "for i in range(5):\n",
        "  plt.imshow(train_image[i])\n",
        "  plt.xlabel(\"Actual \"+str(test_label[i]))\n",
        "  plt.title(\"Predicted \"+str(np.argmax(predictions[i])))\n",
        "  plt.show()\n",
        "\n"
      ],
      "execution_count": null,
      "outputs": [
        {
          "output_type": "display_data",
          "data": {
            "image/png": "[encoded data removed]",
            "text/plain": [
              "<Figure size 432x288 with 1 Axes>"
            ]
          },
          "metadata": {
            "tags": [],
            "needs_background": "light"
          }
        },
        {
          "output_type": "display_data",
          "data": {
            "image/png": "[encoded data removed]",
            "text/plain": [
              "<Figure size 432x288 with 1 Axes>"
            ]
          },
          "metadata": {
            "tags": [],
            "needs_background": "light"
          }
        },
        {
          "output_type": "display_data",
          "data": {
            "image/png": "[encoded data removed]",
            "text/plain": [
              "<Figure size 432x288 with 1 Axes>"
            ]
          },
          "metadata": {
            "tags": [],
            "needs_background": "light"
          }
        },
        {
          "output_type": "display_data",
          "data": {
            "image/png": "[encoded data removed]",
            "text/plain": [
              "<Figure size 432x288 with 1 Axes>"
            ]
          },
          "metadata": {
            "tags": [],
            "needs_background": "light"
          }
        },
        {
          "output_type": "display_data",
          "data": {
            "image/png": "[encoded data removed]",
            "text/plain": [
              "<Figure size 432x288 with 1 Axes>"
            ]
          },
          "metadata": {
            "tags": [],
            "needs_background": "light"
          }
        }
      ]
    },
    {
      "cell_type": "code",
      "metadata": {
        "id": "BwLAzFovnpD5",
        "colab_type": "code",
        "colab": {}
      },
      "source": [
        ""
      ],
      "execution_count": null,
      "outputs": []
    }
  ]
}